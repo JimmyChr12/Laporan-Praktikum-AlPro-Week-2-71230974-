{
 "cells": [
  {
   "cell_type": "code",
   "execution_count": 6,
   "id": "03cace68",
   "metadata": {
    "scrolled": true
   },
   "outputs": [
    {
     "name": "stdout",
     "output_type": "stream",
     "text": [
      "Masukkan tinggi badan (meter): 1.64\n",
      "Masukkan Body Mass Index (BMI): 20\n",
      "53.79 kg\n"
     ]
    }
   ],
   "source": [
    "tinggi = float (input(\"Masukkan tinggi badan (meter): \"))\n",
    "bmi = float (input(\"Masukkan Body Mass Index (BMI): \"))\n",
    "berat_badan = bmi * tinggi ** 2 \n",
    "print(round(berat_badan,2), \"kg\")\n"
   ]
  },
  {
   "cell_type": "code",
   "execution_count": 5,
   "id": "a5961bfb",
   "metadata": {},
   "outputs": [
    {
     "name": "stdout",
     "output_type": "stream",
     "text": [
      "Masukkan nilai x: 18\n",
      "11700.83\n"
     ]
    }
   ],
   "source": [
    "nilai_x = int (input(\"Masukkan nilai x: \"))\n",
    "fungsi_x = 2 * nilai_x  ** 3 + 2 * nilai_x + 15 / nilai_x\n",
    "print (round(fungsi_x,2))\n"
   ]
  },
  {
   "cell_type": "code",
   "execution_count": 7,
   "id": "d9bc382e",
   "metadata": {},
   "outputs": [
    {
     "name": "stdout",
     "output_type": "stream",
     "text": [
      "Masukkan gaji perjam yang diinginkan: 15000\n",
      "Jumlah jam kerja yang akan dilakukan dalam 1 minggu: 30\n",
      "\n",
      "Pendapatan Budi selama libur musim panas sebelum melakukan pembayaran pajak \n",
      "Rp. 2250000\n",
      "Pendapatan Budi selama libur musim panas setelah melakukan pembayaran pajak \n",
      "Rp. 1935000\n",
      "Jumlah uang yang akan Budi habiskan untuk membeli pakaian dan aksesoris \n",
      "Rp. 193500\n",
      "Jumlah uang yang akan Budi habiskan untuk membeli alat tulis \n",
      "Rp. 19350\n",
      "Jumlah uang yang akan Budi sedekahkan \n",
      "Rp. 430538\n",
      "Jumlah uang yang akan diterima anak yatim \n",
      "Rp. 129000\n",
      "Jumlah uang yang akan diterima kaum dhuafa \n",
      "Rp. 301538\n"
     ]
    }
   ],
   "source": [
    "gaji_per_jam = int(input(\"Masukkan gaji perjam yang diinginkan: \"))\n",
    "jumlah_jam_kerja_per_minggu = int(input(\"Jumlah jam kerja yang akan dilakukan dalam 1 minggu: \"))\n",
    "jumlah_gaji_total = gaji_per_jam * jumlah_jam_kerja_per_minggu * 5\n",
    "\n",
    "pajak = jumlah_gaji_total * 14 / 100\n",
    "gaji_setelah_pajak = jumlah_gaji_total - pajak\n",
    "\n",
    "harga_alat_tulis = gaji_setelah_pajak * 1 / 100\n",
    "harga_baju = gaji_setelah_pajak * 10 / 100\n",
    "gaji_setelah_beli_baju_alat_tulis = gaji_setelah_pajak - harga_baju - harga_alat_tulis\n",
    "\n",
    "jumlah_sedekah = gaji_setelah_beli_baju_alat_tulis * 25 / 100\n",
    "\n",
    "jumlah_sedekah_y = jumlah_sedekah / 1000 \n",
    "jumlah_sedekah_yatim = int(jumlah_sedekah_y)  * 30/100 * 1000\n",
    "\n",
    "jumlah_sedekah_dhuafa = jumlah_sedekah - jumlah_sedekah_yatim\n",
    "\n",
    "print(\"\\nPendapatan Budi selama libur musim panas sebelum melakukan pembayaran pajak \\nRp.\", round(jumlah_gaji_total))\n",
    "print(\"Pendapatan Budi selama libur musim panas setelah melakukan pembayaran pajak \\nRp.\", round(gaji_setelah_pajak))\n",
    "print(\"Jumlah uang yang akan Budi habiskan untuk membeli pakaian dan aksesoris \\nRp.\", round(harga_baju))\n",
    "print(\"Jumlah uang yang akan Budi habiskan untuk membeli alat tulis \\nRp.\", round(harga_alat_tulis))\n",
    "print(\"Jumlah uang yang akan Budi sedekahkan \\nRp.\", round(jumlah_sedekah))\n",
    "print(\"Jumlah uang yang akan diterima anak yatim \\nRp.\", round(jumlah_sedekah_yatim))\n",
    "print(\"Jumlah uang yang akan diterima kaum dhuafa \\nRp.\", round(jumlah_sedekah_dhuafa))"
   ]
  }
 ],
 "metadata": {
  "kernelspec": {
   "display_name": "Python 3 (ipykernel)",
   "language": "python",
   "name": "python3"
  },
  "language_info": {
   "codemirror_mode": {
    "name": "ipython",
    "version": 3
   },
   "file_extension": ".py",
   "mimetype": "text/x-python",
   "name": "python",
   "nbconvert_exporter": "python",
   "pygments_lexer": "ipython3",
   "version": "3.11.5"
  }
 },
 "nbformat": 4,
 "nbformat_minor": 5
}
